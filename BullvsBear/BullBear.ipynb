{
 "cells": [
  {
   "cell_type": "markdown",
   "metadata": {},
   "source": [
    "# Bull vs Bear\n",
    "\n",
    "Bull and Bear Market definition:\n",
    "Bull markets are commonly understood as prolonged periods of gradually rising prices, while bear markets are characterized by\n",
    "falling prices and higher volatility than during bull markets.\n",
    "\n",
    "#### Resources\n",
    "\n",
    "- http://www.erim.eur.nl/fileadmin/erim_content/documents/BullBear3.pdf\n",
    "- http://fmwww.bc.edu/RePEc/es2000/1216.pdf\n",
    "\n",
    "#### Required Data\n",
    "\n",
    "- Monthly inflation rates: calculated from seasonally adjusted consumer price index from the FRED database of the Federal REserve Bank of St. Louis\n",
    "- 3-Month Treasury Bill rate - FRED\n",
    "- Trade weighted exchange rate - FRED\n",
    "- 10-year government bond yield\n",
    "- Moody's AAA and BAA corporate bond yields\n",
    "\n",
    "#### Input Variables\n",
    "\n",
    "- Yield Spread: the difference between the governemtn bond yield and the treasury bill rate\n",
    "- Credit Spread: the difference between the BAA and AAA yields\n"
   ]
  },
  {
   "cell_type": "code",
   "execution_count": null,
   "metadata": {},
   "outputs": [],
   "source": []
  }
 ],
 "metadata": {
  "kernelspec": {
   "display_name": "Python 3",
   "language": "python",
   "name": "python3"
  },
  "language_info": {
   "codemirror_mode": {
    "name": "ipython",
    "version": 3
   },
   "file_extension": ".py",
   "mimetype": "text/x-python",
   "name": "python",
   "nbconvert_exporter": "python",
   "pygments_lexer": "ipython3",
   "version": "3.6.5"
  }
 },
 "nbformat": 4,
 "nbformat_minor": 2
}
